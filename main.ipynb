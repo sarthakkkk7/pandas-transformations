{
  "nbformat": 4,
  "nbformat_minor": 0,
  "metadata": {
    "colab": {
      "provenance": []
    },
    "kernelspec": {
      "name": "python3",
      "display_name": "Python 3"
    },
    "language_info": {
      "name": "python"
    }
  },
  "cells": [
    {
      "cell_type": "code",
      "execution_count": 1,
      "metadata": {
        "id": "6B755AFVU2uh"
      },
      "outputs": [],
      "source": [
        "import pandas as pd"
      ]
    },
    {
      "cell_type": "markdown",
      "source": [
        "Importing Pandas library as pd.\n"
      ],
      "metadata": {
        "id": "Ze5HTWYEdoej"
      }
    },
    {
      "cell_type": "code",
      "source": [
        "url=\"https://raw.githubusercontent.com/mwaskom/seaborn-data/master/tips.csv\"\n",
        "df=pd.read_csv(url)"
      ],
      "metadata": {
        "id": "jBgXjVtKY_3b"
      },
      "execution_count": 2,
      "outputs": []
    },
    {
      "cell_type": "code",
      "source": [
        "print(\"First 5 rows:\")\n",
        "print(df.head())"
      ],
      "metadata": {
        "colab": {
          "base_uri": "https://localhost:8080/"
        },
        "id": "2HSRBKDVZZMm",
        "outputId": "d043b769-da98-41b8-fdbb-bdeabb7a296d"
      },
      "execution_count": 3,
      "outputs": [
        {
          "output_type": "stream",
          "name": "stdout",
          "text": [
            "First 5 rows:\n",
            "   total_bill   tip     sex smoker  day    time  size\n",
            "0       16.99  1.01  Female     No  Sun  Dinner     2\n",
            "1       10.34  1.66    Male     No  Sun  Dinner     3\n",
            "2       21.01  3.50    Male     No  Sun  Dinner     3\n",
            "3       23.68  3.31    Male     No  Sun  Dinner     2\n",
            "4       24.59  3.61  Female     No  Sun  Dinner     4\n"
          ]
        }
      ]
    },
    {
      "cell_type": "markdown",
      "source": [
        "Printing first 5 rows of a dataset"
      ],
      "metadata": {
        "id": "8NU_xbUDd5dg"
      }
    },
    {
      "cell_type": "code",
      "source": [
        "print(\"\\n Shape:\", df.shape)\n",
        "print(\"\\n Data Types:\")\n",
        "print(df.dtypes)"
      ],
      "metadata": {
        "colab": {
          "base_uri": "https://localhost:8080/"
        },
        "id": "wramvjbWZfzr",
        "outputId": "40c8d57e-bfa4-4627-c55a-757ec8f18e2b"
      },
      "execution_count": 4,
      "outputs": [
        {
          "output_type": "stream",
          "name": "stdout",
          "text": [
            "\n",
            " Shape: (244, 7)\n",
            "\n",
            " Data Types:\n",
            "total_bill    float64\n",
            "tip           float64\n",
            "sex            object\n",
            "smoker         object\n",
            "day            object\n",
            "time           object\n",
            "size            int64\n",
            "dtype: object\n"
          ]
        }
      ]
    },
    {
      "cell_type": "code",
      "source": [
        "print(\"\\n Summary Statistics:\")\n",
        "print(df.describe())"
      ],
      "metadata": {
        "colab": {
          "base_uri": "https://localhost:8080/"
        },
        "id": "dWkvww4ZZti6",
        "outputId": "5057704c-8dae-426e-cd3a-9b414b834b05"
      },
      "execution_count": 5,
      "outputs": [
        {
          "output_type": "stream",
          "name": "stdout",
          "text": [
            "\n",
            " Summary Statistics:\n",
            "       total_bill         tip        size\n",
            "count  244.000000  244.000000  244.000000\n",
            "mean    19.785943    2.998279    2.569672\n",
            "std      8.902412    1.383638    0.951100\n",
            "min      3.070000    1.000000    1.000000\n",
            "25%     13.347500    2.000000    2.000000\n",
            "50%     17.795000    2.900000    2.000000\n",
            "75%     24.127500    3.562500    3.000000\n",
            "max     50.810000   10.000000    6.000000\n"
          ]
        }
      ]
    },
    {
      "cell_type": "code",
      "source": [
        "df['tip_percent']=round((df['tip']/df['total_bill'])*100,2)"
      ],
      "metadata": {
        "id": "dk8_eoFCZ66n"
      },
      "execution_count": 6,
      "outputs": []
    },
    {
      "cell_type": "code",
      "source": [
        "high_tippers=df[df['tip_percent']>20]"
      ],
      "metadata": {
        "id": "LTqs1ko2aKxg"
      },
      "execution_count": 7,
      "outputs": []
    },
    {
      "cell_type": "code",
      "source": [
        "df.to_csv(\"transformed_tips.csv\",index=False)\n",
        "high_tippers.to_csv(\"high_tippers.csv\",index=False)\n",
        "\n",
        "print(\"\\n Done! 2 new CSVs created.\")"
      ],
      "metadata": {
        "colab": {
          "base_uri": "https://localhost:8080/"
        },
        "id": "aVoZP7zDaPYa",
        "outputId": "dda4eb03-43c9-4de4-95c2-750076ec3ded"
      },
      "execution_count": 8,
      "outputs": [
        {
          "output_type": "stream",
          "name": "stdout",
          "text": [
            "\n",
            " Done! 2 new CSVs created.\n"
          ]
        }
      ]
    },
    {
      "cell_type": "markdown",
      "source": [
        "Converting dataframe to csv file (Comma seperated values)"
      ],
      "metadata": {
        "id": "9eTupjX4eZ9F"
      }
    },
    {
      "cell_type": "code",
      "source": [],
      "metadata": {
        "id": "92OG8k7Daksj"
      },
      "execution_count": null,
      "outputs": []
    }
  ]
}